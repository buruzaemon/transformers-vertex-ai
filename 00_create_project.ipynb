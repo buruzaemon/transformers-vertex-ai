{
 "cells": [
  {
   "cell_type": "markdown",
   "id": "5c451296-e658-4315-a3c1-2b288e44fec7",
   "metadata": {},
   "source": [
    "# Creating A GCP Project\n",
    "\n",
    "notes on setting up a project on GCP for transformer models on Vertex AI"
   ]
  },
  {
   "cell_type": "markdown",
   "id": "bd461304-01a6-45d0-861a-239e8a1c6181",
   "metadata": {},
   "source": [
    "## Create a project"
   ]
  },
  {
   "cell_type": "markdown",
   "id": "114c0db9-25d0-4673-84a1-69b597b96220",
   "metadata": {},
   "source": [
    "## Enable services required for deep learning"
   ]
  },
  {
   "cell_type": "markdown",
   "id": "87a33972-c2c0-46ab-bdd6-7bdaa05a8841",
   "metadata": {},
   "source": [
    "## Increase GPU quota"
   ]
  },
  {
   "cell_type": "markdown",
   "id": "c5ddaeeb-2053-4edf-9995-d4a139d18212",
   "metadata": {},
   "source": [
    "## Configure billing notifications"
   ]
  },
  {
   "cell_type": "code",
   "execution_count": null,
   "id": "e8b8146b-4b9b-444f-affe-faed38781174",
   "metadata": {},
   "outputs": [],
   "source": []
  }
 ],
 "metadata": {
  "environment": {
   "kernel": "huggingface",
   "name": "pytorch-gpu.1-12.m98",
   "type": "gcloud",
   "uri": "gcr.io/deeplearning-platform-release/pytorch-gpu.1-12:m98"
  },
  "kernelspec": {
   "display_name": "HuggingFace",
   "language": "python",
   "name": "huggingface"
  },
  "language_info": {
   "codemirror_mode": {
    "name": "ipython",
    "version": 3
   },
   "file_extension": ".py",
   "mimetype": "text/x-python",
   "name": "python",
   "nbconvert_exporter": "python",
   "pygments_lexer": "ipython3",
   "version": "3.7.12"
  }
 },
 "nbformat": 4,
 "nbformat_minor": 5
}
