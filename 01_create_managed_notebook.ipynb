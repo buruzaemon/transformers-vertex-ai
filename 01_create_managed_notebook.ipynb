{
 "cells": [
  {
   "cell_type": "markdown",
   "id": "1d1db587-1afd-4551-8be1-1dbea4126674",
   "metadata": {},
   "source": [
    "# Create & Configure a User-managed Notebook Server"
   ]
  },
  {
   "cell_type": "markdown",
   "id": "cc4fae43-a1f2-40fa-97e5-103ceddbe3e2",
   "metadata": {},
   "source": [
    "1. Create new user-managed notebook.\n",
    "2. Select PyTorch 1.12 > With 1 NVIDIA Tesla T4\n",
    "    1. Region and Zone **\n",
    "    2. check “Install NVIDA GPU driver automatically for me”\n",
    "3. Start up your new notebook"
   ]
  },
  {
   "cell_type": "markdown",
   "id": "942386de-5cca-40ea-bd05-dade77dcc7dc",
   "metadata": {},
   "source": [
    "    conda create -n HuggingFace python=3.7 setuptools=59 ipywidgets=7.4.2 cudatoolkit=11.2 pytorch ipykernel jupyterlab matplotlib numpy ipympl"
   ]
  },
  {
   "cell_type": "markdown",
   "id": "c0cb869f-413c-44e6-a6f4-7bfe6ec902e8",
   "metadata": {},
   "source": [
    "    conda activate HuggingFace"
   ]
  },
  {
   "cell_type": "markdown",
   "id": "7f7700ce-2e39-410d-92b3-1724139dbefc",
   "metadata": {},
   "source": [
    "    pip install transformers datasets evaluate"
   ]
  },
  {
   "cell_type": "markdown",
   "id": "06233566-7054-411c-8fac-2bdae358eb51",
   "metadata": {},
   "source": [
    "----"
   ]
  },
  {
   "cell_type": "markdown",
   "id": "fe5a6bef-a254-41c7-95a7-db4b461369b0",
   "metadata": {},
   "source": [
    "    jupyter kernelspec list"
   ]
  },
  {
   "cell_type": "markdown",
   "id": "1e5a8002-3c36-437e-bb1e-031fc5231f12",
   "metadata": {},
   "source": [
    "    python -m ipykernel install --user --name HuggingFace\n",
    "    cd /home/jupyter/.local/share/jupyter/kernels/huggingface/\n",
    "\n",
    "    vi kernel-startup.sh"
   ]
  },
  {
   "cell_type": "markdown",
   "id": "4516a649-854f-44ab-9061-d6c3634c1b4c",
   "metadata": {},
   "source": [
    "    #!/usr/bin/env bash\n",
    "\n",
    "    # activate anaconda env\n",
    "    source activate HuggingFace\n",
    "\n",
    "    # this is the critical part, and should be at the end of your script:\n",
    "    exec python -m ipykernel $@"
   ]
  },
  {
   "cell_type": "markdown",
   "id": "7c9c3159-1934-43f0-a1a2-cd58a55b2515",
   "metadata": {},
   "source": [
    "    chmod +x kernel-startup.sh"
   ]
  },
  {
   "cell_type": "markdown",
   "id": "219a32bf-a716-4af9-a81f-23a75047fe5e",
   "metadata": {},
   "source": [
    "    vi kernel.json"
   ]
  },
  {
   "cell_type": "markdown",
   "id": "fcb6d3d7-1861-48af-9429-784800ac2a3e",
   "metadata": {},
   "source": [
    "    {\n",
    "      \"argv\": [\n",
    "        \"/home/jupyter/.local/share/jupyter/kernels/huggingface/kernel-startup.sh\",\n",
    "        \"-f\",\n",
    "        \"{connection_file}\"\n",
    "      ],\n",
    "      \"display_name\": \"HuggingFace\",\n",
    "      \"language\": \"python\",\n",
    "      \"metadata\": {\n",
    "        \"debugger\": true\n",
    "      }\n",
    "    }"
   ]
  },
  {
   "cell_type": "markdown",
   "id": "17347efe-5c9f-4a4e-96c5-e605e6911f76",
   "metadata": {},
   "source": [
    "----"
   ]
  },
  {
   "cell_type": "markdown",
   "id": "9d0d4e91-9658-43ae-839c-90a14e138b40",
   "metadata": {},
   "source": [
    "    jupyter nbextension list"
   ]
  },
  {
   "cell_type": "raw",
   "id": "eee85ed2-5dda-4faf-a03e-b7847ecfe55a",
   "metadata": {},
   "source": [
    "    jupyter nbextension enable --py widgetsnbextension"
   ]
  },
  {
   "cell_type": "markdown",
   "id": "fdefd144-8823-4ba2-931f-d804a978318e",
   "metadata": {},
   "source": [
    "----"
   ]
  },
  {
   "cell_type": "markdown",
   "id": "622b4b75-e143-4855-9b87-d0d2f744d883",
   "metadata": {},
   "source": [
    "### Monitoring GPU performance on Linux VMs\n",
    "\n",
    "[here](https://cloud.google.com/compute/docs/gpus/monitor-gpus#use-virtualenv)"
   ]
  },
  {
   "cell_type": "markdown",
   "id": "99ff9830-920a-4dec-9fc8-8948ee5ee059",
   "metadata": {},
   "source": [
    "    sudo mkdir -p /opt/google\n",
    "    cd /opt/google\n",
    "\n",
    "    sudo git clone https://github.com/GoogleCloudPlatform/compute-gpu-monitoring.git\n",
    "\n",
    "    cd compute-gpu-monitoring/linux"
   ]
  },
  {
   "cell_type": "markdown",
   "id": "fc474c5b-0b03-4c2b-8a4b-c665d2a9eaf5",
   "metadata": {},
   "source": [
    "    sudo apt-get install python3-venv\n",
    "    sudo python3 -m venv venv\n",
    "    sudo venv/bin/pip install wheel\n",
    "    sudo venv/bin/pip install -Ur requirements.txt"
   ]
  },
  {
   "cell_type": "markdown",
   "id": "1f3b8f01-1ad9-4318-9067-847afac6bbcf",
   "metadata": {},
   "source": [
    "    sudo cp /opt/google/compute-gpu-monitoring/linux/systemd/google_gpu_monitoring_agent_venv.service /lib/systemd/system\n",
    "    sudo systemctl daemon-reload\n",
    "    sudo systemctl --no-reload --now enable /lib/systemd/system/google_gpu_monitoring_agent_venv.service\n",
    "\n",
    "    sudo systemctl list-units | grep gpu"
   ]
  },
  {
   "cell_type": "code",
   "execution_count": null,
   "id": "d81b4a6e-9a25-4897-b4c6-f26b61fe95bd",
   "metadata": {},
   "outputs": [],
   "source": []
  }
 ],
 "metadata": {
  "environment": {
   "kernel": "huggingface",
   "name": "pytorch-gpu.1-12.m98",
   "type": "gcloud",
   "uri": "gcr.io/deeplearning-platform-release/pytorch-gpu.1-12:m98"
  },
  "kernelspec": {
   "display_name": "HuggingFace",
   "language": "python",
   "name": "huggingface"
  },
  "language_info": {
   "codemirror_mode": {
    "name": "ipython",
    "version": 3
   },
   "file_extension": ".py",
   "mimetype": "text/x-python",
   "name": "python",
   "nbconvert_exporter": "python",
   "pygments_lexer": "ipython3",
   "version": "3.7.12"
  }
 },
 "nbformat": 4,
 "nbformat_minor": 5
}
